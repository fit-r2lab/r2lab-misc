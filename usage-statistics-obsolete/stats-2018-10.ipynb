{
 "cells": [
  {
   "cell_type": "markdown",
   "metadata": {},
   "source": [
    "# Stats in R2lab"
   ]
  },
  {
   "cell_type": "markdown",
   "metadata": {},
   "source": [
    "### Convenience"
   ]
  },
  {
   "cell_type": "markdown",
   "metadata": {},
   "source": [
    "This cell is only here so that any change in the code gets reloaded."
   ]
  },
  {
   "cell_type": "code",
   "execution_count": null,
   "metadata": {},
   "outputs": [],
   "source": [
    "%load_ext autoreload\n",
    "%autoreload 2"
   ]
  },
  {
   "cell_type": "markdown",
   "metadata": {},
   "source": [
    "## Scope\n",
    "\n",
    "The working assumption here is that the interesting data is\n",
    "\n",
    "* the percentage of usage over a given period `[start .. end]`\n",
    "\n",
    "* the total number of relevant accounts and slices\n",
    "\n",
    "* also we might wish to pinpoint entries in the db that\n",
    "  correspond to some operation conditions. For example,\n",
    "  as of march 2018, we are interested in the disabled accounts\n",
    "  attached to the r2lab site, because we suspect some people in\n",
    "  this set have been trying to join but that was never acted upon..."
   ]
  },
  {
   "cell_type": "markdown",
   "metadata": {},
   "source": [
    "## Changelog\n",
    "\n",
    "* 2018 October; using this to prepare the stats exposed in the FIT meeting on Oct. 16\n",
    "\n",
    "* 2018 March; this is a rebuild - see `stats-old.py` - of a previously, rather *ad hoc* script. \n",
    "  The present version will be OK for mostly 2017 and later, as we ignore the old data stored in json files.\n",
    "\n",
    "* 2017 November; at that time - again, see `stats-old.py` - we used 2 different sources of data, presumably because of the migration from the omf/rest API to myplc."
   ]
  },
  {
   "cell_type": "markdown",
   "metadata": {},
   "source": [
    "## Prerequisite\n",
    "\n",
    "<div style=\"border: 3px dotted; text-align: center; background-color:red\"><b>IMPORTANT !!</b> Walid you need to read this !</div>\n",
    "\n",
    "* we need to have the complete list of slices, but PLCAPI won't let us access to slices that are deleted - so essentially the ones that have expired;\n",
    "\n",
    "* so in order to compensate for that, you need to run the script `gather-slices.py` on `r2labapi.inria.fr` and then retrieve the corresponding output here - typically a file named `SLICES-2018-03-23.json`\n",
    "\n",
    "```\n",
    "[root@r2labapi ~]# cd r2lab-misc/usage-statistics/\n",
    "[root@r2labapi usage-statistics]# git pull\n",
    "Updating 17c7136..d892b36\n",
    "Fast-forward\n",
    " usage-statistics/gather-slices.py    | 73 +++++++++++++++++++++++++++++++++++++++++++++++++++++++++++++++++++++++++\n",
    " usage-statistics/stats-2018-03.ipynb | 39 +++++++++++++++++++++++++++++++++------\n",
    " 2 files changed, 106 insertions(+), 6 deletions(-)\n",
    " create mode 100755 usage-statistics/gather-slices.py\n",
    "[root@r2labapi usage-statistics]# ./gather-slices.py\n",
    "(Over)wrote SLICES-2018-03-23.json\n",
    "```"
   ]
  },
  {
   "cell_type": "markdown",
   "metadata": {},
   "source": [
    "Then make sure to retrieve that file locally and define its name here:\n",
    "\n",
    "```\n",
    "tparment ~/git/r2lab-misc/usage-statistics (master=) $ rsync -ai $(plr r2labapi):r2lab-misc/usage-statistics/SLICES\\* .\n",
    ">f..t.... SLICES-2018-03-23.json\n",
    "```"
   ]
  },
  {
   "cell_type": "code",
   "execution_count": null,
   "metadata": {},
   "outputs": [],
   "source": [
    "slices_filename = \"SLICES-2018-10-12.json\""
   ]
  },
  {
   "cell_type": "code",
   "execution_count": null,
   "metadata": {},
   "outputs": [],
   "source": [
    "import json\n",
    "\n",
    "with open(slices_filename) as feed:\n",
    "    all_slices = json.loads(feed.read())\n",
    "    print(\"SLICES files loaded OK\")"
   ]
  },
  {
   "cell_type": "markdown",
   "metadata": {},
   "source": [
    "# Proxying / password to the API"
   ]
  },
  {
   "cell_type": "markdown",
   "metadata": {},
   "source": [
    "You need to know the password of the PLCAPI admin account on `r2labapi.inria.fr`"
   ]
  },
  {
   "cell_type": "code",
   "execution_count": null,
   "metadata": {},
   "outputs": [],
   "source": [
    "# only prompt once so the notebook can be re-run often\n",
    "import getpass\n",
    "account = \"root@r2lab.inria.fr\"\n",
    "try:\n",
    "    if password:\n",
    "        print(\"We know the password\")\n",
    "    else:\n",
    "        raise ValueError\n",
    "except:\n",
    "    password = getpass.getpass(f\"Enter password for {account} : \")"
   ]
  },
  {
   "cell_type": "code",
   "execution_count": null,
   "metadata": {},
   "outputs": [],
   "source": [
    "# let's check that\n",
    "auth = {'AuthMethod' : 'password',\n",
    "        'Username'   : account,\n",
    "        'AuthString' : password}\n",
    "\n",
    "import xmlrpc.client\n",
    "url = \"https://r2labapi.inria.fr:443/PLCAPI/\""
   ]
  },
  {
   "cell_type": "code",
   "execution_count": null,
   "metadata": {},
   "outputs": [],
   "source": [
    "proxy = xmlrpc.client.ServerProxy(url)\n",
    "try:\n",
    "    print(\"Authorization OK\" if proxy.AuthCheck(auth)==1 else \"KO\")\n",
    "except Exception as e:\n",
    "    print(f\"OOPS, something wrong with {type(e)} - {e}\")"
   ]
  },
  {
   "cell_type": "markdown",
   "metadata": {},
   "source": [
    "*********"
   ]
  },
  {
   "cell_type": "markdown",
   "metadata": {},
   "source": [
    "## Enter your period of interest"
   ]
  },
  {
   "cell_type": "markdown",
   "metadata": {
    "slideshow": {
     "slide_type": ""
    }
   },
   "source": [
    "Second argument to `input_date` is the default answer"
   ]
  },
  {
   "cell_type": "code",
   "execution_count": null,
   "metadata": {},
   "outputs": [],
   "source": [
    "from timeutils import show_period, human_readable"
   ]
  },
  {
   "cell_type": "code",
   "execution_count": null,
   "metadata": {},
   "outputs": [],
   "source": [
    "show_period();"
   ]
  },
  {
   "cell_type": "markdown",
   "metadata": {},
   "source": [
    "# Fetching user accounts"
   ]
  },
  {
   "cell_type": "code",
   "execution_count": null,
   "metadata": {},
   "outputs": [],
   "source": [
    "all_accounts = proxy.GetPersons(auth)\n",
    "\n",
    "print(f\"We have {len(all_accounts)} accounts in the DB\")"
   ]
  },
  {
   "cell_type": "markdown",
   "metadata": {},
   "source": [
    "\n"
   ]
  },
  {
   "cell_type": "code",
   "execution_count": null,
   "metadata": {},
   "outputs": [],
   "source": [
    "# accessory\n",
    "\n",
    "# This will add a `login_base` field to each user account\n",
    "# to identify the attached institution:\n",
    "\n",
    "all_sites = proxy.GetSites(auth)\n",
    "site_hash = { site['site_id'] : site for site in all_sites}\n",
    "for account in all_accounts:\n",
    "    site_ids = account['site_ids']\n",
    "    if not site_ids:\n",
    "        account['login_base'] = '(none)'\n",
    "    if len(site_ids) == 1:\n",
    "        account['login_base'] = site_hash[account['site_ids'][0]]['login_base']\n",
    "    else:\n",
    "        account['login_base'] = '(' + \",\".join(site_hash[site_id]['login_base'] for site_id in site_ids) + ')'"
   ]
  },
  {
   "cell_type": "markdown",
   "metadata": {},
   "source": [
    "# Classifications - import data from excel"
   ]
  },
  {
   "cell_type": "markdown",
   "metadata": {},
   "source": [
    "Let's load Walid's paper on the accounts; this is to be able to classify usages and accounts into several categories."
   ]
  },
  {
   "cell_type": "code",
   "execution_count": null,
   "metadata": {},
   "outputs": [],
   "source": [
    "import pandas as pd"
   ]
  },
  {
   "cell_type": "markdown",
   "metadata": {},
   "source": [
    "Originally this is an excel file `accounts-annotations.xls`. We need an extra library to be able to read `xlsx` files directly:\n",
    "\n",
    "    pip3 install xlrd"
   ]
  },
  {
   "cell_type": "code",
   "execution_count": null,
   "metadata": {},
   "outputs": [],
   "source": [
    "# read excel file\n",
    "df = pd.read_excel('accounts-annotations.xlsx', encoding='cp1252')"
   ]
  },
  {
   "cell_type": "code",
   "execution_count": null,
   "metadata": {},
   "outputs": [],
   "source": [
    "# our main index is the 'Mail' column\n",
    "df = df.set_index('email')"
   ]
  },
  {
   "cell_type": "code",
   "execution_count": null,
   "metadata": {},
   "outputs": [],
   "source": [
    "# visual check on a small sample\n",
    "df.iloc[3:6]"
   ]
  },
  {
   "cell_type": "markdown",
   "metadata": {},
   "source": [
    "### Annotate `all_accounts`"
   ]
  },
  {
   "cell_type": "code",
   "execution_count": null,
   "metadata": {},
   "outputs": [],
   "source": [
    "for account in all_accounts:\n",
    "    if not account['enabled']:\n",
    "        # print(f\"ignoring disabled account {account['email']}\")\n",
    "        continue\n",
    "    try:\n",
    "        email = account['email']\n",
    "        excel_row = df.loc[email]\n",
    "        # academia or industry\n",
    "        family = excel_row['family']\n",
    "        if family in ('academia', 'industry'):\n",
    "            account['family'] = family\n",
    "        else:\n",
    "            print(f\"Unknown family for {email} ! (in {account['login_base']})\")\n",
    "        if excel_row['diana'] == 'yes':\n",
    "            account['scope'] = 'diana'\n",
    "        elif excel_row['fit'] == 'yes':\n",
    "            account['scope'] = 'fit'\n",
    "        elif excel_row['others'] == 'yes':\n",
    "            account['scope'] = 'others'\n",
    "        else:\n",
    "            print(f\"Unknown scope for {email} ! (in {account['login_base']})\")\n",
    "    except Exception as e:\n",
    "        print(f'OOPS with email={email} - {type(e)} - {e}')\n"
   ]
  },
  {
   "cell_type": "markdown",
   "metadata": {},
   "source": [
    "If the above cell has not printed any warning, we have all active user accounts tagged with \n",
    "* `family` as either `academia` or industry\n",
    "* `scope` as `diana`, `fit` or `others`"
   ]
  },
  {
   "cell_type": "markdown",
   "metadata": {},
   "source": [
    "# Stats on user accounts"
   ]
  },
  {
   "cell_type": "code",
   "execution_count": null,
   "metadata": {},
   "outputs": [],
   "source": [
    "def show_accounts(accounts):\n",
    "    accounts.sort(key = lambda person: person['date_created'])\n",
    "    for i, account in enumerate(accounts, 1):\n",
    "        default = 'n/a' if account['enabled'] else '--'\n",
    "        print(f\"[{i:02d}] \"\n",
    "              f\" {'OK' if account['enabled'] else 'KO'}\"\n",
    "              f\" {human_readable(account['date_created'])}\"\n",
    "              f\" {account['login_base']:22s}\",\n",
    "              f\" {account.get('family', default):8s}\",\n",
    "              f\" {account.get('scope', default):8s}\",\n",
    "              f\" {account['email']}\")"
   ]
  },
  {
   "cell_type": "markdown",
   "metadata": {},
   "source": [
    "### narrowing on the selected period"
   ]
  },
  {
   "cell_type": "code",
   "execution_count": null,
   "metadata": {},
   "outputs": [],
   "source": [
    "ifrom, iuntil = show_period()\n",
    "selected_accounts = [\n",
    "    account for account in all_accounts \n",
    "    if account['date_created'] >= ifrom and\n",
    "       account['date_created'] <= iuntil\n",
    "]"
   ]
  },
  {
   "cell_type": "code",
   "execution_count": null,
   "metadata": {},
   "outputs": [],
   "source": [
    "# show_accounts(selected_accounts)\n",
    "print(f\"a total of {len(selected_accounts)} accounts were created over the selected period\")"
   ]
  },
  {
   "cell_type": "markdown",
   "metadata": {},
   "source": [
    "### focusing on enabled accounts (What really matters)"
   ]
  },
  {
   "cell_type": "code",
   "execution_count": null,
   "metadata": {},
   "outputs": [],
   "source": [
    "enabled_accounts_in_selected_period = [\n",
    "    account for account in selected_accounts if account['enabled']\n",
    "]"
   ]
  },
  {
   "cell_type": "code",
   "execution_count": null,
   "metadata": {},
   "outputs": [],
   "source": [
    "print(f\"New enabled accounts in the selected period = {len(enabled_accounts_in_selected_period)}\")"
   ]
  },
  {
   "cell_type": "code",
   "execution_count": null,
   "metadata": {},
   "outputs": [],
   "source": [
    "show_accounts(enabled_accounts_in_selected_period)"
   ]
  },
  {
   "cell_type": "markdown",
   "metadata": {},
   "source": [
    "### By scope : diana / fit / others"
   ]
  },
  {
   "cell_type": "code",
   "execution_count": null,
   "metadata": {},
   "outputs": [],
   "source": [
    "for scope in ['diana', 'fit', 'others']:\n",
    "    scope_accounts = [account for account in enabled_accounts_in_selected_period\n",
    "                       if account['scope'] == scope]\n",
    "    print(f\"in scope {scope}, {len(scope_accounts)} new enabled accounts\")"
   ]
  },
  {
   "cell_type": "markdown",
   "metadata": {},
   "source": [
    "### By family : academia / industry"
   ]
  },
  {
   "cell_type": "code",
   "execution_count": null,
   "metadata": {},
   "outputs": [],
   "source": [
    "for family in ['academia', 'industry']:\n",
    "    family_accounts = [account for account in enabled_accounts_in_selected_period\n",
    "                       if account['family'] == family]\n",
    "    print(f\"in family {family}, {len(family_accounts)} new enabled accounts\")"
   ]
  },
  {
   "cell_type": "markdown",
   "metadata": {},
   "source": [
    "# Classifying slices"
   ]
  },
  {
   "cell_type": "code",
   "execution_count": null,
   "metadata": {},
   "outputs": [],
   "source": [
    "# sort in expiration order    \n",
    "all_slices.sort(key = lambda slice: slice['expires'])\n",
    "    \n",
    "print(f\"Found {len(all_slices)} slices\")    "
   ]
  },
  {
   "cell_type": "code",
   "execution_count": null,
   "metadata": {},
   "outputs": [],
   "source": [
    "def show_slices(slices):\n",
    "    for i, slice in enumerate(slices, 1):\n",
    "        print(f\"{i:02d} \"\n",
    "            f\" created {human_readable(slice['created'])}\"\n",
    "            f\" expires {human_readable(slice['expires'])}\"\n",
    "            f\" {slice['name']}\"\n",
    "         )"
   ]
  },
  {
   "cell_type": "code",
   "execution_count": null,
   "metadata": {},
   "outputs": [],
   "source": [
    "show_slices(all_slices)"
   ]
  },
  {
   "cell_type": "markdown",
   "metadata": {},
   "source": [
    "### Ignoring admin slices"
   ]
  },
  {
   "cell_type": "code",
   "execution_count": null,
   "metadata": {},
   "outputs": [],
   "source": [
    "admin_slices = ['auto_', 'nightly', 'maintenance' ]\n",
    "\n",
    "def relevant(slice_or_lease):\n",
    "    return not any(admin in slice_or_lease['name'] for admin in admin_slices)"
   ]
  },
  {
   "cell_type": "markdown",
   "metadata": {},
   "source": [
    "### classifying slices"
   ]
  },
  {
   "cell_type": "code",
   "execution_count": null,
   "metadata": {},
   "outputs": [],
   "source": [
    "# hash accounts per person_id\n",
    "accounts_hash = { account['person_id'] : account for account in all_accounts}\n",
    "\n",
    "for slice in all_slices:\n",
    "    if not relevant(slice):\n",
    "        continue\n",
    "    person_ids = slice['person_ids']\n",
    "    slice['families'] = [accounts_hash[person_id].get('family', '???')\n",
    "                         for person_id in slice['person_ids']]"
   ]
  },
  {
   "cell_type": "code",
   "execution_count": null,
   "metadata": {},
   "outputs": [],
   "source": [
    "for slice in all_slices:\n",
    "    if not relevant(slice):\n",
    "        continue\n",
    "    print(f\"slice {slice['name']} has {len(slice['person_ids'])} people => {slice['families']}\")"
   ]
  },
  {
   "cell_type": "markdown",
   "metadata": {},
   "source": [
    "Long story short, at this point we can safely consider that 100% of our usage is academy."
   ]
  },
  {
   "cell_type": "markdown",
   "metadata": {},
   "source": [
    "# Fetching leases"
   ]
  },
  {
   "cell_type": "code",
   "execution_count": null,
   "metadata": {},
   "outputs": [],
   "source": [
    "# fetch leases for that period\n",
    "selected_leases = proxy.GetLeases(\n",
    "    auth,\n",
    "    {'>t_from' : ifrom, '<t_from' : iuntil}\n",
    ")\n",
    "\n",
    "# Sort then in ascending order\n",
    "selected_leases.sort(key=lambda lease: lease['t_from'])\n",
    "\n",
    "print(f\"there have been {len(selected_leases)} reservations made during the period\")"
   ]
  },
  {
   "cell_type": "markdown",
   "metadata": {},
   "source": [
    "### A glimpse"
   ]
  },
  {
   "cell_type": "code",
   "execution_count": null,
   "metadata": {},
   "outputs": [],
   "source": [
    "def lease_line(lease):\n",
    "    return f\"{lease['name']:25s} {human_readable(lease['t_from'])} -> {human_readable(lease['t_until'])}\"\n",
    "\n",
    "def glimpse(leases, size=5):\n",
    "    for lease in leases[:size]:\n",
    "        print(lease_line(lease))\n",
    "    print(\"...\")\n",
    "    for lease in leases[-size:]:\n",
    "        print(lease_line(lease))"
   ]
  },
  {
   "cell_type": "code",
   "execution_count": null,
   "metadata": {
    "cell_style": "center"
   },
   "outputs": [],
   "source": [
    "glimpse(selected_leases)"
   ]
  },
  {
   "cell_type": "markdown",
   "metadata": {},
   "source": [
    "# Usage ratio"
   ]
  },
  {
   "cell_type": "markdown",
   "metadata": {},
   "source": [
    "##### raw ratio *vs* opening hours\n",
    "\n",
    "The raw ratio is obtained by comparing the amount of time reserved with the total amount of time available.\n",
    "\n",
    "Assuming that opening hours would be mon-fri from 09:00 to 19:00"
   ]
  },
  {
   "cell_type": "code",
   "execution_count": null,
   "metadata": {},
   "outputs": [],
   "source": [
    "# this is a constant\n",
    "\n",
    "open_correction = (5 * 10) / (7 * 24)\n",
    "print(f\"Opening hours are {open_correction:.2%} of total hours\")"
   ]
  },
  {
   "cell_type": "markdown",
   "metadata": {},
   "source": [
    "##### user *vs* admin\n",
    "\n",
    "We try to classify the various slices in 2 families whether they are for management/operations purposes, or used for actual experimentation."
   ]
  },
  {
   "cell_type": "code",
   "execution_count": null,
   "metadata": {},
   "outputs": [],
   "source": [
    "total_duration = iuntil - ifrom"
   ]
  },
  {
   "cell_type": "code",
   "execution_count": null,
   "metadata": {},
   "outputs": [],
   "source": [
    "def show_usage_ratio(leases, total_duration, message):\n",
    "\n",
    "    def duration(lease):\n",
    "        return lease['t_until'] - lease['t_from']\n",
    "\n",
    "    reserved_duration = sum(duration(lease) for lease in leases)\n",
    "    print(f\"Total time reserved: {reserved_duration} / {total_duration:1.0f} s\")\n",
    "    print(f\"                i.e: {reserved_duration/3600:.2f} / {total_duration/3600:.2f}    hours\")\n",
    "    print(f\"                i.e: {reserved_duration/(24*3600):.2f} / {total_duration/(24*3600):.2f}       days\")\n",
    "    \n",
    "    raw_ratio = reserved_duration / total_duration\n",
    "    print(f\"{message}: raw_ratio is {raw_ratio:.2%}\")\n",
    "    \n",
    "    open_ratio = raw_ratio / open_correction\n",
    "    print(f\"{message}: open_ratio is {open_ratio:.2%}\")"
   ]
  },
  {
   "cell_type": "code",
   "execution_count": null,
   "metadata": {
    "cell_style": "center"
   },
   "outputs": [],
   "source": [
    "show_usage_ratio(selected_leases, total_duration, \"ALL LEASES\")"
   ]
  },
  {
   "cell_type": "markdown",
   "metadata": {},
   "source": [
    "### Usage ratio - filtered"
   ]
  },
  {
   "cell_type": "markdown",
   "metadata": {},
   "source": [
    "We discard slices whose name contains any of the following"
   ]
  },
  {
   "cell_type": "code",
   "execution_count": null,
   "metadata": {},
   "outputs": [],
   "source": [
    "filtered_leases = [lease for lease in selected_leases if relevant(lease)]"
   ]
  },
  {
   "cell_type": "code",
   "execution_count": null,
   "metadata": {},
   "outputs": [],
   "source": [
    "show_usage_ratio(filtered_leases, total_duration, \"USER LEASES\")"
   ]
  },
  {
   "cell_type": "markdown",
   "metadata": {},
   "source": [
    "### validated *vs* non-validated accounts\n",
    "\n",
    "Still on the selected period, show the ones that were enabled or not"
   ]
  },
  {
   "cell_type": "code",
   "execution_count": null,
   "metadata": {},
   "outputs": [],
   "source": [
    "enabled_selected_accounts = [ account for account in selected_accounts if account['enabled']]\n",
    "disabled_selected_accounts = [ account for account in selected_accounts if not account['enabled']]"
   ]
  },
  {
   "cell_type": "code",
   "execution_count": null,
   "metadata": {},
   "outputs": [],
   "source": [
    "show_accounts(enabled_selected_accounts)"
   ]
  },
  {
   "cell_type": "code",
   "execution_count": null,
   "metadata": {},
   "outputs": [],
   "source": [
    "show_accounts(disabled_selected_accounts)"
   ]
  },
  {
   "cell_type": "markdown",
   "metadata": {},
   "source": [
    "*****\n",
    "*****\n",
    "*****"
   ]
  },
  {
   "cell_type": "markdown",
   "metadata": {},
   "source": [
    "*Discarded* section about specific assessments made in March 2018 - see in the git history"
   ]
  }
 ],
 "metadata": {
  "kernelspec": {
   "display_name": "Python 3",
   "language": "python",
   "name": "python3"
  },
  "language_info": {
   "codemirror_mode": {
    "name": "ipython",
    "version": 3
   },
   "file_extension": ".py",
   "mimetype": "text/x-python",
   "name": "python",
   "nbconvert_exporter": "python",
   "pygments_lexer": "ipython3",
   "version": "3.7.0"
  }
 },
 "nbformat": 4,
 "nbformat_minor": 2
}
