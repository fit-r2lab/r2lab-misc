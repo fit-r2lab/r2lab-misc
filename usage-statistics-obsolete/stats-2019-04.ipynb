{
 "cells": [
  {
   "cell_type": "markdown",
   "metadata": {},
   "source": [
    "# Stats in R2lab"
   ]
  },
  {
   "cell_type": "markdown",
   "metadata": {},
   "source": [
    "### convenience"
   ]
  },
  {
   "cell_type": "markdown",
   "metadata": {},
   "source": [
    "This cell is only here so that any change in the code gets reloaded."
   ]
  },
  {
   "cell_type": "code",
   "execution_count": 1,
   "metadata": {},
   "outputs": [
    {
     "name": "stdout",
     "output_type": "stream",
     "text": [
      "The autoreload extension is already loaded. To reload it, use:\n",
      "  %reload_ext autoreload\n"
     ]
    }
   ],
   "source": [
    "%load_ext autoreload\n",
    "%autoreload 2"
   ]
  },
  {
   "cell_type": "markdown",
   "metadata": {},
   "source": [
    "## scope\n",
    "\n",
    "The working assumption here is that the interesting data is\n",
    "\n",
    "* the percentage of usage over a given period `[start .. end]`\n",
    "\n",
    "* the total number of relevant accounts and slices\n",
    "\n",
    "* also we might wish to pinpoint entries in the db that\n",
    "  correspond to some operation conditions. For example,\n",
    "  as of march 2018, we are interested in the disabled accounts\n",
    "  attached to the r2lab site, because we suspect some people in\n",
    "  this set have been trying to join but that was never acted upon..."
   ]
  },
  {
   "cell_type": "markdown",
   "metadata": {},
   "source": [
    "## changelog\n",
    "\n",
    "* 2019 April; issuing regular stsatistics\n",
    "\n",
    "* 2018 October; using this to prepare the stats exposed in the FIT meeting on Oct. 16\n",
    "\n",
    "* 2018 March; this is a rebuild - see `stats-old.py` - of a previously, rather *ad hoc* script. \n",
    "  The present version will be OK for mostly 2017 and later, as we ignore the old data stored in json files.\n",
    "\n",
    "* 2017 November; at that time - again, see `stats-old.py` - we used 2 different sources of data, presumably because of the migration from the omf/rest API to myplc."
   ]
  },
  {
   "cell_type": "markdown",
   "metadata": {},
   "source": [
    "## prerequisite\n",
    "\n",
    "<div style=\"border: 3px dotted; text-align: center; background-color:red\"><b>IMPORTANT !!</b> Walid you need to read this !</div>\n",
    "\n",
    "* we need to have the complete list of slices, but PLCAPI won't let us access to slices that are deleted - so essentially the ones that have expired;\n",
    "\n",
    "* so in order to compensate for that, we need to run the script `gather-slices.py` on `r2labapi.inria.fr` and then retrieve the corresponding output here - typically a file named `SLICES-2018-03-23.json`\n",
    "\n",
    "* this is to be performed by Thierry P. before anything else\n",
    "\n",
    "```\n",
    "[root@r2labapi ~]# cd r2lab-misc/usage-statistics/\n",
    "[root@r2labapi usage-statistics]# git pull\n",
    "Updating 17c7136..d892b36\n",
    "Fast-forward\n",
    " usage-statistics/gather-slices.py    | 73 +++++++++++++++++++++++++++++++++++++++++++++++++++++++++++++++++++++++++\n",
    " usage-statistics/stats-2018-03.ipynb | 39 +++++++++++++++++++++++++++++++++------\n",
    " 2 files changed, 106 insertions(+), 6 deletions(-)\n",
    " create mode 100755 usage-statistics/gather-slices.py\n",
    "[root@r2labapi usage-statistics]# ./gather-slices.py\n",
    "(Over)wrote SLICES-2018-03-23.json\n",
    "```"
   ]
  },
  {
   "cell_type": "markdown",
   "metadata": {},
   "source": [
    "Then make sure to retrieve that file locally and define its name here:\n",
    "\n",
    "```\n",
    "tparment ~/git/r2lab-misc/usage-statistics (master=) $ rsync -ai $(plr r2labapi):r2lab-misc/usage-statistics/SLICES\\* .\n",
    ">f..t.... SLICES-2018-03-23.json\n",
    "```"
   ]
  },
  {
   "cell_type": "code",
   "execution_count": 2,
   "metadata": {},
   "outputs": [],
   "source": [
    "slices_filename = \"SLICES-2019-04-08.json\""
   ]
  },
  {
   "cell_type": "code",
   "execution_count": 3,
   "metadata": {},
   "outputs": [
    {
     "name": "stdout",
     "output_type": "stream",
     "text": [
      "SLICES files loaded OK\n"
     ]
    }
   ],
   "source": [
    "import json\n",
    "\n",
    "with open(slices_filename) as feed:\n",
    "    all_slices = json.loads(feed.read())\n",
    "    print(\"SLICES files loaded OK\")"
   ]
  },
  {
   "cell_type": "markdown",
   "metadata": {},
   "source": [
    "# proxying / password to the API"
   ]
  },
  {
   "cell_type": "markdown",
   "metadata": {},
   "source": [
    "You need to know the password of the PLCAPI admin account on `r2labapi.inria.fr`"
   ]
  },
  {
   "cell_type": "code",
   "execution_count": 4,
   "metadata": {},
   "outputs": [
    {
     "name": "stdout",
     "output_type": "stream",
     "text": [
      "Enter password for root@r2lab.inria.fr : ········\n"
     ]
    }
   ],
   "source": [
    "# only prompt once so the notebook can be re-run often\n",
    "import getpass\n",
    "account = \"root@r2lab.inria.fr\"\n",
    "try:\n",
    "    if password:\n",
    "        print(\"We know the password\")\n",
    "    else:\n",
    "        raise ValueError\n",
    "except:\n",
    "    password = getpass.getpass(f\"Enter password for {account} : \")"
   ]
  },
  {
   "cell_type": "code",
   "execution_count": 5,
   "metadata": {},
   "outputs": [],
   "source": [
    "# let's check that\n",
    "auth = {'AuthMethod' : 'password',\n",
    "        'Username'   : account,\n",
    "        'AuthString' : password}\n",
    "\n",
    "import xmlrpc.client\n",
    "url = \"https://r2labapi.inria.fr:443/PLCAPI/\""
   ]
  },
  {
   "cell_type": "code",
   "execution_count": 6,
   "metadata": {},
   "outputs": [
    {
     "name": "stdout",
     "output_type": "stream",
     "text": [
      "Authorization OK\n"
     ]
    }
   ],
   "source": [
    "proxy = xmlrpc.client.ServerProxy(url)\n",
    "try:\n",
    "    print(\"Authorization OK\" if proxy.AuthCheck(auth)==1 else \"KO\")\n",
    "except Exception as e:\n",
    "    print(f\"OOPS, something wrong with {type(e)} - {e}\")"
   ]
  },
  {
   "cell_type": "markdown",
   "metadata": {},
   "source": [
    "*********"
   ]
  },
  {
   "cell_type": "markdown",
   "metadata": {},
   "source": [
    "## enter your period of interest"
   ]
  },
  {
   "cell_type": "markdown",
   "metadata": {},
   "source": [
    "Enter your period of interest; this won't be prompted again if you re-run the cell, unless you comment off the `reset_period()` thingy (but turn it back off afterwards)"
   ]
  },
  {
   "cell_type": "code",
   "execution_count": 7,
   "metadata": {},
   "outputs": [],
   "source": [
    "from timeutils import show_period, human_readable, reset_period"
   ]
  },
  {
   "cell_type": "code",
   "execution_count": 8,
   "metadata": {},
   "outputs": [
    {
     "name": "stdout",
     "output_type": "stream",
     "text": [
      "Enter starting day yyyy-mm-dd : 2018-10-01\n",
      "period starts on 2018-09-30T22:00:UTC\n",
      "Enter ending day yyyy-mm-dd : 2019-04-01\n",
      "period starts on 2019-03-31T22:00:UTC\n"
     ]
    }
   ],
   "source": [
    "# if you need to pick another scope, \n",
    "# uncomment and run the following line\n",
    "# reset_period()\n",
    "\n",
    "show_period();"
   ]
  },
  {
   "cell_type": "markdown",
   "metadata": {},
   "source": [
    "# fetching user accounts"
   ]
  },
  {
   "cell_type": "code",
   "execution_count": 9,
   "metadata": {},
   "outputs": [
    {
     "name": "stdout",
     "output_type": "stream",
     "text": [
      "We have 178 accounts in the DB\n"
     ]
    }
   ],
   "source": [
    "all_accounts = proxy.GetPersons(auth)\n",
    "\n",
    "print(f\"We have {len(all_accounts)} accounts in the DB\")"
   ]
  },
  {
   "cell_type": "markdown",
   "metadata": {},
   "source": [
    "\n"
   ]
  },
  {
   "cell_type": "code",
   "execution_count": 10,
   "metadata": {},
   "outputs": [],
   "source": [
    "# accessory\n",
    "\n",
    "# This will add a `login_base` field to each user account\n",
    "# to identify the attached institution:\n",
    "\n",
    "all_sites = proxy.GetSites(auth)\n",
    "site_hash = { site['site_id'] : site for site in all_sites}\n",
    "for account in all_accounts:\n",
    "    site_ids = account['site_ids']\n",
    "    if not site_ids:\n",
    "        account['login_base'] = '(none)'\n",
    "    if len(site_ids) == 1:\n",
    "        account['login_base'] = site_hash[account['site_ids'][0]]['login_base']\n",
    "    else:\n",
    "        account['login_base'] = '(' + \",\".join(site_hash[site_id]['login_base'] for site_id in site_ids) + ')'"
   ]
  },
  {
   "cell_type": "markdown",
   "metadata": {},
   "source": [
    "# classifications - import data from excel"
   ]
  },
  {
   "cell_type": "markdown",
   "metadata": {},
   "source": [
    "Let's load Walid's paper on the accounts; this is to be able to classify usages and accounts into several categories."
   ]
  },
  {
   "cell_type": "code",
   "execution_count": 11,
   "metadata": {},
   "outputs": [],
   "source": [
    "import pandas as pd"
   ]
  },
  {
   "cell_type": "markdown",
   "metadata": {},
   "source": [
    "Originally this is an excel file `accounts-annotations.xls`. We need an extra library to be able to read `xlsx` files directly:\n",
    "\n",
    "    pip3 install xlrd"
   ]
  },
  {
   "cell_type": "code",
   "execution_count": 12,
   "metadata": {},
   "outputs": [],
   "source": [
    "# read excel file\n",
    "df = pd.read_excel('accounts-annotations.xlsx', encoding='cp1252')"
   ]
  },
  {
   "cell_type": "code",
   "execution_count": 13,
   "metadata": {},
   "outputs": [],
   "source": [
    "# our main index is the 'Mail' column\n",
    "df = df.set_index('email')"
   ]
  },
  {
   "cell_type": "code",
   "execution_count": 14,
   "metadata": {},
   "outputs": [
    {
     "data": {
      "text/html": [
       "<div>\n",
       "<style scoped>\n",
       "    .dataframe tbody tr th:only-of-type {\n",
       "        vertical-align: middle;\n",
       "    }\n",
       "\n",
       "    .dataframe tbody tr th {\n",
       "        vertical-align: top;\n",
       "    }\n",
       "\n",
       "    .dataframe thead th {\n",
       "        text-align: right;\n",
       "    }\n",
       "</style>\n",
       "<table border=\"1\" class=\"dataframe\">\n",
       "  <thead>\n",
       "    <tr style=\"text-align: right;\">\n",
       "      <th></th>\n",
       "      <th>year</th>\n",
       "      <th>month</th>\n",
       "      <th>day</th>\n",
       "      <th>id</th>\n",
       "      <th>country</th>\n",
       "      <th>family</th>\n",
       "      <th>diana</th>\n",
       "      <th>fit</th>\n",
       "      <th>others</th>\n",
       "      <th>comments</th>\n",
       "    </tr>\n",
       "    <tr>\n",
       "      <th>email</th>\n",
       "      <th></th>\n",
       "      <th></th>\n",
       "      <th></th>\n",
       "      <th></th>\n",
       "      <th></th>\n",
       "      <th></th>\n",
       "      <th></th>\n",
       "      <th></th>\n",
       "      <th></th>\n",
       "      <th></th>\n",
       "    </tr>\n",
       "  </thead>\n",
       "  <tbody>\n",
       "    <tr>\n",
       "      <th>ramonreisfontes@gmail.com</th>\n",
       "      <td>2016</td>\n",
       "      <td>12</td>\n",
       "      <td>16</td>\n",
       "      <td>id=006</td>\n",
       "      <td>Brésil</td>\n",
       "      <td>academia</td>\n",
       "      <td>-</td>\n",
       "      <td>-</td>\n",
       "      <td>yes</td>\n",
       "      <td>NaN</td>\n",
       "    </tr>\n",
       "    <tr>\n",
       "      <th>navid.nikaein@eurecom.fr</th>\n",
       "      <td>2016</td>\n",
       "      <td>12</td>\n",
       "      <td>16</td>\n",
       "      <td>id=004</td>\n",
       "      <td>France</td>\n",
       "      <td>academia</td>\n",
       "      <td>-</td>\n",
       "      <td>-</td>\n",
       "      <td>yes</td>\n",
       "      <td>NaN</td>\n",
       "    </tr>\n",
       "    <tr>\n",
       "      <th>loic.baron@lip6.fr</th>\n",
       "      <td>2016</td>\n",
       "      <td>12</td>\n",
       "      <td>16</td>\n",
       "      <td>id=003</td>\n",
       "      <td>France</td>\n",
       "      <td>academia</td>\n",
       "      <td>-</td>\n",
       "      <td>yes</td>\n",
       "      <td>-</td>\n",
       "      <td>NaN</td>\n",
       "    </tr>\n",
       "  </tbody>\n",
       "</table>\n",
       "</div>"
      ],
      "text/plain": [
       "                           year  month  day      id country    family diana  \\\n",
       "email                                                                         \n",
       "ramonreisfontes@gmail.com  2016     12   16  id=006  Brésil  academia     -   \n",
       "navid.nikaein@eurecom.fr   2016     12   16  id=004  France  academia     -   \n",
       "loic.baron@lip6.fr         2016     12   16  id=003  France  academia     -   \n",
       "\n",
       "                           fit others comments  \n",
       "email                                           \n",
       "ramonreisfontes@gmail.com    -    yes      NaN  \n",
       "navid.nikaein@eurecom.fr     -    yes      NaN  \n",
       "loic.baron@lip6.fr         yes      -      NaN  "
      ]
     },
     "execution_count": 14,
     "metadata": {},
     "output_type": "execute_result"
    }
   ],
   "source": [
    "# visual check on a small sample\n",
    "df.iloc[3:6]"
   ]
  },
  {
   "cell_type": "code",
   "execution_count": 15,
   "metadata": {},
   "outputs": [],
   "source": [
    "# df"
   ]
  },
  {
   "cell_type": "markdown",
   "metadata": {},
   "source": [
    "### annotate `all_accounts`"
   ]
  },
  {
   "cell_type": "markdown",
   "metadata": {},
   "source": [
    "this very basic loop just marks all rows with annotations;  \n",
    "it does a minimal check about the consistency of the xls file"
   ]
  },
  {
   "cell_type": "code",
   "execution_count": 16,
   "metadata": {},
   "outputs": [],
   "source": [
    "for account in all_accounts:\n",
    "    if not account['enabled']:\n",
    "        # print(f\"ignoring disabled account {account['email']}\")\n",
    "        continue\n",
    "    try:\n",
    "        email = account['email']\n",
    "        excel_row = df.loc[email]\n",
    "        # academia or industry\n",
    "        family = excel_row['family']\n",
    "        if family.lower() in ('academia', 'industry'):\n",
    "            account['family'] = family\n",
    "        else:\n",
    "            print(f\"Unknown family for {email} ! (in {account['login_base']})\")\n",
    "        if excel_row['diana'] == 'yes':\n",
    "            account['scope'] = 'diana'\n",
    "        elif excel_row['fit'] == 'yes':\n",
    "            account['scope'] = 'fit'\n",
    "        elif excel_row['others'] == 'yes':\n",
    "            account['scope'] = 'others'\n",
    "        else:\n",
    "            print(f\"Unknown scope for {email} ! (in {account['login_base']})\")\n",
    "    except Exception as e:\n",
    "        print(f'OOPS with email={email} - {type(e)} - {e}')\n"
   ]
  },
  {
   "cell_type": "markdown",
   "metadata": {},
   "source": [
    "If the above cell has not printed any warning, we have all active user accounts tagged with \n",
    "* `family` as either `academia` or industry\n",
    "* `scope` as `diana`, `fit` or `others`"
   ]
  },
  {
   "cell_type": "markdown",
   "metadata": {},
   "source": [
    "# stats on user accounts"
   ]
  },
  {
   "cell_type": "code",
   "execution_count": 17,
   "metadata": {},
   "outputs": [],
   "source": [
    "# just a helper function that we'll user later on \n",
    "\n",
    "def show_accounts(accounts):\n",
    "    accounts.sort(key = lambda person: person['date_created'])\n",
    "    for i, account in enumerate(accounts, 1):\n",
    "        default = 'n/a' if account['enabled'] else '--'\n",
    "        print(f\"[{i:02d}] \"\n",
    "              f\" {'OK' if account['enabled'] else 'KO'}\"\n",
    "              f\" {human_readable(account['date_created'])}\"\n",
    "              f\" {account['login_base']:22s}\",\n",
    "              f\" {account.get('family', default):8s}\",\n",
    "              f\" {account.get('scope', default):8s}\",\n",
    "              f\" {account['email']}\")"
   ]
  },
  {
   "cell_type": "markdown",
   "metadata": {},
   "source": [
    "### narrowing on the selected period"
   ]
  },
  {
   "cell_type": "code",
   "execution_count": 18,
   "metadata": {},
   "outputs": [
    {
     "name": "stdout",
     "output_type": "stream",
     "text": [
      "period starts on 2018-09-30T22:00:UTC\n",
      "period starts on 2019-03-31T22:00:UTC\n"
     ]
    }
   ],
   "source": [
    "ifrom, iuntil = show_period()\n",
    "selected_accounts = [\n",
    "    account for account in all_accounts \n",
    "    if account['date_created'] >= ifrom and\n",
    "       account['date_created'] <= iuntil\n",
    "]"
   ]
  },
  {
   "cell_type": "code",
   "execution_count": 19,
   "metadata": {},
   "outputs": [
    {
     "name": "stdout",
     "output_type": "stream",
     "text": [
      "a total of 34 accounts were created over the selected period\n"
     ]
    }
   ],
   "source": [
    "# show_accounts(selected_accounts)\n",
    "print(f\"a total of {len(selected_accounts)} accounts were created over the selected period\")"
   ]
  },
  {
   "cell_type": "markdown",
   "metadata": {},
   "source": [
    "### focusing on enabled accounts (what really matters)"
   ]
  },
  {
   "cell_type": "code",
   "execution_count": 20,
   "metadata": {},
   "outputs": [],
   "source": [
    "enabled_accounts_in_selected_period = [\n",
    "    account for account in selected_accounts if account['enabled']\n",
    "]"
   ]
  },
  {
   "cell_type": "code",
   "execution_count": 21,
   "metadata": {},
   "outputs": [
    {
     "name": "stdout",
     "output_type": "stream",
     "text": [
      "New enabled accounts in the selected period = 13\n"
     ]
    }
   ],
   "source": [
    "print(f\"New enabled accounts in the selected period = {len(enabled_accounts_in_selected_period)}\")"
   ]
  },
  {
   "cell_type": "code",
   "execution_count": 22,
   "metadata": {},
   "outputs": [
    {
     "name": "stdout",
     "output_type": "stream",
     "text": [
      "[01]  OK 2018-10-24T13:53:UTC inria                   industry  others    adnan.aijaz@toshiba-trel.com\n",
      "[02]  OK 2018-10-25T05:09:UTC inria                   industry  others    praveen_kalapatapu@infosys.com\n",
      "[03]  OK 2018-10-31T05:50:UTC inria                   academia  others    rathodvishal78@gmail.com\n",
      "[04]  OK 2018-10-31T10:51:UTC inria                   industry  others    jaya.thota@toshiba-trel.com\n",
      "[05]  OK 2018-10-31T11:15:UTC inria                   industry  others    prash.kemp@gmail.com\n",
      "[06]  OK 2018-11-12T11:23:UTC inria                   academia  others    pierre-louis.tharaux@inserm.fr\n",
      "[07]  OK 2019-01-02T12:40:UTC inria                   academia  others    tijana.devaja@uns.ac.rs\n",
      "[08]  OK 2019-02-11T17:47:UTC inria                   academia  others    vemundd@stud.ntnu.no\n",
      "[09]  OK 2019-02-12T14:32:UTC inria                   academia  others    a.k.bhattacharjee@student.tudelft.nl\n",
      "[10]  OK 2019-02-26T10:18:UTC inria                   academia  diana     giuseppe.di-lena@inria.fr\n",
      "[11]  OK 2019-02-28T17:03:UTC inria                   academia  fit       remy.grunblatt@inria.fr\n",
      "[12]  OK 2019-03-07T17:37:UTC inria                   academia  others    nothiern@gmail.com\n",
      "[13]  OK 2019-03-18T16:04:UTC inria                   academia  diana     anas.errahali@inria.fr\n"
     ]
    }
   ],
   "source": [
    "show_accounts(enabled_accounts_in_selected_period)"
   ]
  },
  {
   "cell_type": "markdown",
   "metadata": {},
   "source": [
    "### by scope : diana / fit / others"
   ]
  },
  {
   "cell_type": "code",
   "execution_count": 23,
   "metadata": {},
   "outputs": [
    {
     "name": "stdout",
     "output_type": "stream",
     "text": [
      "in scope diana, 2 new enabled accounts\n",
      "in scope fit, 1 new enabled accounts\n",
      "in scope others, 10 new enabled accounts\n"
     ]
    }
   ],
   "source": [
    "for scope in ['diana', 'fit', 'others']:\n",
    "    scope_accounts = [account for account in enabled_accounts_in_selected_period\n",
    "                       if account['scope'] == scope]\n",
    "    print(f\"in scope {scope}, {len(scope_accounts)} new enabled accounts\")"
   ]
  },
  {
   "cell_type": "markdown",
   "metadata": {},
   "source": [
    "### by family : academia / industry"
   ]
  },
  {
   "cell_type": "code",
   "execution_count": 24,
   "metadata": {},
   "outputs": [
    {
     "name": "stdout",
     "output_type": "stream",
     "text": [
      "in family academia, 9 new enabled accounts\n",
      "in family industry, 4 new enabled accounts\n"
     ]
    }
   ],
   "source": [
    "for family in ['academia', 'industry']:\n",
    "    family_accounts = [account for account in enabled_accounts_in_selected_period\n",
    "                       if account['family'] == family]\n",
    "    print(f\"in family {family}, {len(family_accounts)} new enabled accounts\")"
   ]
  },
  {
   "cell_type": "markdown",
   "metadata": {},
   "source": [
    "### by perspective: aca⋇diana, aca⋇fit, aca*other, indus⋇other"
   ]
  },
  {
   "cell_type": "code",
   "execution_count": 25,
   "metadata": {},
   "outputs": [
    {
     "name": "stdout",
     "output_type": "stream",
     "text": [
      "in perspective academia⋇diana, 2 new enabled accounts\n",
      "in perspective academia⋇fit, 1 new enabled accounts\n",
      "in perspective academia⋇others, 6 new enabled accounts\n",
      "in perspective industry⋇diana, 0 new enabled accounts\n",
      "in perspective industry⋇fit, 0 new enabled accounts\n",
      "in perspective industry⋇others, 4 new enabled accounts\n"
     ]
    }
   ],
   "source": [
    "from itertools import product\n",
    "\n",
    "perspectives = list(product(('academia', 'industry'),\n",
    "                            ('diana', 'fit', 'others')))\n",
    "# this set is not enough when we get to tag slices as opposed to accounts\n",
    "#    ('academia', 'diana'),\n",
    "#    ('academia', 'fit'),\n",
    "#    ('academia', 'others'),\n",
    "#    ('industry', 'others'),\n",
    "\n",
    "\n",
    "for family, scope in perspectives:\n",
    "    perspective_accounts = [\n",
    "        account for account in enabled_accounts_in_selected_period\n",
    "        if account['family'] == family and\n",
    "        account['scope'] == scope]\n",
    "    print(f\"in perspective {family}⋇{scope}, {len(perspective_accounts)} new enabled accounts\")"
   ]
  },
  {
   "cell_type": "markdown",
   "metadata": {},
   "source": [
    "# classifying slices"
   ]
  },
  {
   "cell_type": "code",
   "execution_count": 26,
   "metadata": {},
   "outputs": [
    {
     "name": "stdout",
     "output_type": "stream",
     "text": [
      "found 82 slices\n"
     ]
    }
   ],
   "source": [
    "# sort in expiration order    \n",
    "all_slices.sort(key = lambda slice: slice['expires'])\n",
    "    \n",
    "print(f\"found {len(all_slices)} slices\")    "
   ]
  },
  {
   "cell_type": "code",
   "execution_count": 27,
   "metadata": {},
   "outputs": [],
   "source": [
    "def show_slices(slices):\n",
    "    for i, slice in enumerate(slices, 1):\n",
    "        print(f\"{i:02d} \"\n",
    "            f\" created {human_readable(slice['created'])}\"\n",
    "            f\" expires {human_readable(slice['expires'])}\"\n",
    "            f\" {slice['name']}\"\n",
    "         )"
   ]
  },
  {
   "cell_type": "code",
   "execution_count": 28,
   "metadata": {},
   "outputs": [
    {
     "name": "stdout",
     "output_type": "stream",
     "text": [
      "01  created 2016-12-16T13:27:UTC expires 2016-12-30T13:27:UTC upmc_mobicom.mobicom_demo\n",
      "02  created 2016-12-16T13:27:UTC expires 2016-12-30T13:27:UTC upmc_pltutorial.emulation\n",
      "03  created 2016-12-16T13:27:UTC expires 2016-12-30T13:27:UTC inria_farzaneh.routing\n",
      "04  created 2016-12-16T13:27:UTC expires 2016-12-30T13:27:UTC unicamp_wifisdn.slicesdn\n",
      "05  created 2016-12-16T13:27:UTC expires 2016-12-30T13:27:UTC upmc_ieee.infocom2016\n",
      "06  created 2016-12-16T13:27:UTC expires 2016-12-30T13:27:UTC inria_wifi.sdn\n",
      "07  created 2016-12-16T13:27:UTC expires 2016-12-30T13:27:UTC inria_iotlab.iotlab_slice\n",
      "08  created 2016-12-20T15:12:UTC expires 2017-01-03T15:12:UTC inria_mesh.routing\n",
      "09  created 2017-01-11T11:43:UTC expires 2017-01-25T11:43:UTC inria_citi4g\n",
      "10  created 2016-12-16T13:27:UTC expires 2017-02-17T14:30:UTC inria_oai.b210\n",
      "11  created 2016-12-16T13:27:UTC expires 2017-03-05T07:45:UTC inria_oai.skype\n",
      "12  created 2016-12-16T13:27:UTC expires 2017-03-05T19:27:UTC inria_anas.ping\n",
      "13  created 2017-03-05T16:50:UTC expires 2017-03-19T16:50:UTC inria_andhraiot\n",
      "14  created 2017-01-24T16:53:UTC expires 2017-03-27T16:53:UTC inria_es\n",
      "15  created 2017-03-13T19:36:UTC expires 2017-03-27T19:36:UTC inria_fehland3\n",
      "16  created 2016-12-16T13:27:UTC expires 2017-04-23T09:16:UTC inria_walid.demo\n",
      "17  created 2017-04-11T09:44:UTC expires 2017-04-25T09:44:UTC inria_codocedo\n",
      "18  created 2016-12-16T13:27:UTC expires 2017-04-30T09:00:UTC inria_mario.maintenance\n",
      "19  created 2016-12-16T13:27:UTC expires 2017-04-30T09:00:UTC inria_mario.script\n",
      "20  created 2017-03-11T15:13:UTC expires 2017-05-25T18:29:UTC inria_fehland1\n",
      "21  created 2017-03-13T19:36:UTC expires 2017-05-28T16:19:UTC inria_fehland2\n",
      "22  created 2017-05-16T15:14:UTC expires 2017-05-30T15:14:UTC inria_visit\n",
      "23  created 2017-05-22T19:56:UTC expires 2017-06-05T19:56:UTC eurecoms3_test\n",
      "24  created 2017-05-22T19:56:UTC expires 2017-06-05T19:56:UTC eurecoms3_test2\n",
      "25  created 2016-12-16T13:27:UTC expires 2017-07-14T15:56:UTC inria_oai.build\n",
      "26  created 2017-07-05T07:53:UTC expires 2017-07-19T07:53:UTC inria_manipooja\n",
      "27  created 2017-05-19T17:28:UTC expires 2017-07-22T17:11:UTC eurecoms3_coexist\n",
      "28  created 2017-03-13T10:51:UTC expires 2017-09-13T22:18:UTC inria_yassir\n",
      "29  created 2016-12-16T13:27:UTC expires 2017-10-16T12:08:UTC inria_r2lab.tutorial\n",
      "30  created 2017-08-25T18:59:UTC expires 2017-10-25T21:14:UTC inria_urauf\n",
      "31  created 2017-10-17T06:21:UTC expires 2017-10-31T06:21:UTC inria_kazi.puc\n",
      "32  created 2017-09-20T11:59:UTC expires 2017-12-06T15:19:UTC eurecoms3_today\n",
      "33  created 2017-09-21T15:28:UTC expires 2017-12-11T09:42:UTC inria_jawad\n",
      "34  created 2017-04-11T17:38:UTC expires 2018-02-05T04:08:UTC inria_oai.slicing\n",
      "35  created 2017-12-05T06:25:UTC expires 2018-02-19T00:16:UTC inria_cefore\n",
      "36  created 2018-04-12T13:02:UTC expires 2018-04-26T13:02:UTC inria_acqua\n",
      "37  created 2018-04-12T16:55:UTC expires 2018-04-26T16:55:UTC inria_oai.laas\n",
      "38  created 2018-02-15T12:00:UTC expires 2018-05-05T15:02:UTC inria_tp\n",
      "39  created 2017-11-29T16:03:UTC expires 2018-05-12T07:22:UTC inria_pfe\n",
      "40  created 2018-04-16T16:43:UTC expires 2018-05-14T16:43:UTC eurecoms3_wifi_experiments\n",
      "41  created 2018-05-22T13:48:UTC expires 2018-06-05T13:48:UTC inria_sarws\n",
      "42  created 2017-10-19T12:35:UTC expires 2018-07-15T08:05:UTC inria_l2bm\n",
      "43  created 2018-05-09T10:42:UTC expires 2018-07-24T09:26:UTC inria_ns3\n",
      "44  created 2018-06-03T10:58:UTC expires 2018-07-29T10:58:UTC eurecoms3_wifi_experiments\n",
      "45  created 2018-02-13T15:32:UTC expires 2018-08-27T07:20:UTC inria_batman\n",
      "46  created 2018-08-28T08:59:UTC expires 2018-09-11T08:59:UTC inria_ns3\n",
      "47  created 2018-09-04T14:08:UTC expires 2018-09-18T14:08:UTC inria_oot\n",
      "48  created 2018-09-06T12:28:UTC expires 2018-09-20T12:28:UTC inria_lqe\n",
      "49  created 2016-12-16T13:27:UTC expires 2018-10-13T17:15:UTC inria_naoufal.mesh\n",
      "50  created 2018-10-31T12:53:UTC expires 2018-11-14T12:53:UTC inria_toshiba\n",
      "51  created 2018-10-31T13:06:UTC expires 2018-11-14T13:06:UTC inria_rathod\n",
      "52  created 2018-10-31T19:13:UTC expires 2018-11-14T19:13:UTC inria_juniper\n",
      "53  created 2018-07-24T11:56:UTC expires 2018-11-19T14:18:UTC inria_electrosmart\n",
      "54  created 2018-09-17T18:02:UTC expires 2018-11-19T17:32:UTC inria_wipro\n",
      "55  created 2018-07-11T12:32:UTC expires 2018-11-23T14:09:UTC inria_metu\n",
      "56  created 2018-09-24T09:17:UTC expires 2018-12-12T06:05:UTC inria_havelsan\n",
      "57  created 2018-10-25T17:52:UTC expires 2018-12-20T17:52:UTC inria_infosys\n",
      "58  created 2019-01-02T16:20:UTC expires 2019-01-16T16:20:UTC inria_novisad\n",
      "59  created 2018-10-31T17:13:UTC expires 2019-01-19T12:27:UTC inria_toshiba2\n",
      "60  created 2018-08-30T09:01:UTC expires 2019-02-11T13:16:UTC inria_batman\n",
      "61  created 2019-02-12T14:45:UTC expires 2019-02-26T14:45:UTC inria_tudelft\n",
      "62  created 2016-12-16T13:27:UTC expires 2019-03-25T07:49:UTC inria_r2lab.admin\n",
      "63  created 2019-01-17T10:58:UTC expires 2019-04-11T22:39:UTC inria_acqua\n",
      "64  created 2019-02-12T14:22:UTC expires 2019-04-27T10:53:UTC inria_ntnu\n",
      "65  created 2019-02-26T10:22:UTC expires 2019-05-12T13:41:UTC inria_distrinet\n",
      "66  created 2019-03-07T21:03:UTC expires 2019-05-13T18:44:UTC inria_ulyon1\n",
      "67  created 2019-02-28T22:04:UTC expires 2019-05-15T11:21:UTC inria_dante\n",
      "68  created 2018-03-27T09:18:UTC expires 2019-05-25T16:21:UTC inria_school\n",
      "69  created 2018-11-22T08:37:UTC expires 2019-05-28T03:02:UTC inria_juniper\n",
      "70  created 2017-10-17T13:47:UTC expires 2019-05-28T03:02:UTC inria_r2lab.tutorial\n",
      "71  created 2019-03-21T10:54:UTC expires 2019-06-04T14:05:UTC inria_admin\n",
      "72  created 2018-10-01T10:12:UTC expires 2019-06-04T14:06:UTC inria_cefore\n",
      "73  created 2019-03-12T20:21:UTC expires 2019-06-04T14:06:UTC inria_mininet\n",
      "74  created 2018-11-21T08:32:UTC expires 2019-06-04T14:06:UTC inria_mosaic\n",
      "75  created 2017-06-08T17:04:UTC expires 2019-06-04T14:06:UTC inria_oai\n",
      "76  created 2016-12-16T13:27:UTC expires 2019-06-04T14:06:UTC inria_r2lab.nightly\n",
      "77  created 2017-11-22T15:52:UTC expires 2019-06-04T14:06:UTC inria_lora\n",
      "78  created 2017-04-14T15:37:UTC expires 2019-06-04T14:06:UTC inria_radiomap\n",
      "79  created 2016-12-16T13:27:UTC expires 2038-01-18T03:14:UTC auto_sfacm\n",
      "80  created 2016-12-16T13:27:UTC expires 2038-01-18T03:14:UTC auto_drl\n",
      "81  created 2016-12-16T13:27:UTC expires 2038-01-18T03:14:UTC auto_netflow\n",
      "82  created 2016-12-16T13:27:UTC expires 2038-01-18T03:14:UTC auto_sirius\n"
     ]
    }
   ],
   "source": [
    "show_slices(all_slices)"
   ]
  },
  {
   "cell_type": "markdown",
   "metadata": {},
   "source": [
    "### Ignoring admin slices"
   ]
  },
  {
   "cell_type": "code",
   "execution_count": 29,
   "metadata": {},
   "outputs": [],
   "source": [
    "admin_slices = ['auto_', 'nightly', 'maintenance' ]\n",
    "\n",
    "def relevant(slice_or_lease):\n",
    "    return not any(admin in slice_or_lease['name'] for admin in admin_slices)"
   ]
  },
  {
   "cell_type": "markdown",
   "metadata": {},
   "source": [
    "### classifying slices"
   ]
  },
  {
   "cell_type": "code",
   "execution_count": 30,
   "metadata": {},
   "outputs": [],
   "source": [
    "# create hashing index to quickly retrive an account by its person_id\n",
    "accounts_hash = {account['person_id'] : account for account in all_accounts}\n",
    "\n",
    "# mark all slice entry with a 'families' ans 'scopes' mark\n",
    "# that gathers what is inherited from its accounts\n",
    "for slice in all_slices:\n",
    "    if not relevant(slice):\n",
    "        continue\n",
    "    person_ids = slice['person_ids']\n",
    "    slice['families'] = [accounts_hash[person_id].get('family', '???')\n",
    "                         for person_id in slice['person_ids']]\n",
    "    slice['scopes'] = [accounts_hash[person_id].get('scope', '???')\n",
    "                       for person_id in slice['person_ids']]"
   ]
  },
  {
   "cell_type": "markdown",
   "metadata": {},
   "source": [
    "This is where we tag slices wrt family and scope; the decisions in here are **admittedly a little arbitrary**..."
   ]
  },
  {
   "cell_type": "code",
   "execution_count": 31,
   "metadata": {},
   "outputs": [
    {
     "name": "stdout",
     "output_type": "stream",
     "text": [
      "slice upmc_mobicom.mobicom_demo is tagged as academia⋇diana with 0 people\n",
      "slice upmc_pltutorial.emulation is tagged as academia⋇diana with 0 people\n",
      "slice inria_farzaneh.routing is tagged as academia⋇diana with 0 people\n",
      "slice unicamp_wifisdn.slicesdn is tagged as academia⋇diana with 0 people\n",
      "slice upmc_ieee.infocom2016 is tagged as academia⋇diana with 0 people\n",
      "slice inria_wifi.sdn is tagged as academia⋇diana with 0 people\n",
      "slice inria_iotlab.iotlab_slice is tagged as academia⋇diana with 0 people\n",
      "slice inria_mesh.routing is tagged as academia⋇diana with 0 people\n",
      "slice inria_citi4g is tagged as academia⋇diana with 0 people\n",
      "slice inria_oai.b210 is tagged as academia⋇diana with 0 people\n",
      "slice inria_oai.skype is tagged as academia⋇diana with 0 people\n",
      "slice inria_anas.ping is tagged as academia⋇diana with 0 people\n",
      "slice inria_andhraiot is tagged as academia⋇diana with 0 people\n",
      "slice inria_es is tagged as academia⋇diana with 0 people\n",
      "slice inria_fehland3 is tagged as academia⋇diana with 0 people\n",
      "slice inria_walid.demo is tagged as academia⋇diana with 0 people\n",
      "slice inria_codocedo is tagged as academia⋇diana with 0 people\n",
      "slice inria_mario.script is tagged as academia⋇diana with 0 people\n",
      "slice inria_fehland1 is tagged as academia⋇diana with 0 people\n",
      "slice inria_fehland2 is tagged as academia⋇diana with 0 people\n",
      "slice inria_visit is tagged as academia⋇diana with 0 people\n",
      "slice eurecoms3_test is tagged as academia⋇diana with 0 people\n",
      "slice eurecoms3_test2 is tagged as academia⋇diana with 0 people\n",
      "slice inria_oai.build is tagged as academia⋇diana with 0 people\n",
      "slice inria_manipooja is tagged as academia⋇diana with 0 people\n",
      "slice eurecoms3_coexist is tagged as academia⋇diana with 0 people\n",
      "slice inria_yassir is tagged as academia⋇diana with 0 people\n",
      "slice inria_r2lab.tutorial is tagged as academia⋇diana with 0 people\n",
      "slice inria_urauf is tagged as academia⋇diana with 0 people\n",
      "slice inria_kazi.puc is tagged as academia⋇diana with 0 people\n",
      "slice eurecoms3_today is tagged as academia⋇diana with 0 people\n",
      "slice inria_jawad is tagged as academia⋇diana with 0 people\n",
      "slice inria_oai.slicing is tagged as academia⋇diana with 0 people\n",
      "slice inria_cefore is tagged as academia⋇diana with 0 people\n",
      "slice inria_acqua is tagged as academia⋇diana with 0 people\n",
      "slice inria_oai.laas is tagged as academia⋇diana with 0 people\n",
      "slice inria_tp is tagged as academia⋇diana with 0 people\n",
      "slice inria_pfe is tagged as academia⋇diana with 0 people\n",
      "slice eurecoms3_wifi_experiments is tagged as academia⋇diana with 0 people\n",
      "slice inria_sarws is tagged as academia⋇diana with 0 people\n",
      "slice inria_l2bm is tagged as academia⋇diana with 0 people\n",
      "slice inria_ns3 is tagged as academia⋇diana with 0 people\n",
      "slice eurecoms3_wifi_experiments is tagged as academia⋇diana with 0 people\n",
      "slice inria_batman is tagged as academia⋇diana with 0 people\n",
      "slice inria_ns3 is tagged as academia⋇diana with 0 people\n",
      "slice inria_oot is tagged as academia⋇diana with 0 people\n",
      "slice inria_lqe is tagged as academia⋇diana with 0 people\n",
      "slice inria_naoufal.mesh is tagged as academia⋇diana with 0 people\n",
      "slice inria_toshiba is tagged as academia⋇diana with 0 people\n",
      "slice inria_rathod is tagged as academia⋇diana with 0 people\n",
      "slice inria_juniper is tagged as academia⋇diana with 0 people\n",
      "slice inria_electrosmart is tagged as academia⋇diana with 0 people\n",
      "slice inria_wipro is tagged as academia⋇diana with 0 people\n",
      "slice inria_metu is tagged as academia⋇diana with 0 people\n",
      "slice inria_havelsan is tagged as academia⋇diana with 0 people\n",
      "slice inria_infosys is tagged as academia⋇diana with 0 people\n",
      "slice inria_novisad is tagged as academia⋇diana with 0 people\n",
      "slice inria_toshiba2 is tagged as academia⋇diana with 0 people\n",
      "slice inria_batman is tagged as academia⋇diana with 0 people\n",
      "slice inria_tudelft is tagged as academia⋇diana with 0 people\n",
      "slice inria_r2lab.admin is tagged as academia⋇diana with 0 people\n",
      "slice inria_acqua is tagged as academia⋇fit with 1 people\n",
      "slice inria_ntnu is tagged as academia⋇fit with 1 people\n",
      "slice inria_distrinet is tagged as academia⋇diana with 0 people\n",
      "slice inria_ulyon1 is tagged as academia⋇fit with 1 people\n",
      "slice inria_dante is tagged as academia⋇fit with 1 people\n",
      "slice inria_school is tagged as industry⋇fit with 72 people\n",
      "slice inria_juniper is tagged as industry⋇fit with 1 people\n",
      "slice inria_r2lab.tutorial is tagged as industry⋇fit with 99 people\n",
      "slice inria_admin is tagged as academia⋇fit with 3 people\n",
      "slice inria_cefore is tagged as academia⋇fit with 6 people\n",
      "slice inria_mininet is tagged as academia⋇fit with 3 people\n",
      "slice inria_mosaic is tagged as academia⋇fit with 3 people\n",
      "slice inria_oai is tagged as academia⋇fit with 4 people\n",
      "slice inria_lora is tagged as academia⋇fit with 4 people\n",
      "slice inria_radiomap is tagged as academia⋇fit with 5 people\n"
     ]
    }
   ],
   "source": [
    "# actually classify a slice in term of its\n",
    "# family\n",
    "# scope\n",
    "# perspective\n",
    "relevant_slices = []\n",
    "\n",
    "verbose = False\n",
    "\n",
    "for slice in all_slices:\n",
    "    if not relevant(slice):\n",
    "        continue\n",
    "    relevant_slices.append(slice)\n",
    "    # tag slice 'family': consider a slice as industry if at least one account is industry\n",
    "    slice['family'] = 'industry' if 'industry' in slice['families'] else 'academia'\n",
    "    # tag slice 'scope': diana if all members are diana\n",
    "    if all(map(lambda person_id: account['scope']=='diana', slice['person_ids'])):\n",
    "        slice['scope'] = 'diana'\n",
    "    elif all(map(lambda person_id: account['scope']=='fit', slice['person_ids'])):\n",
    "        slice['scope'] = 'fit'\n",
    "    else:\n",
    "        slice['scope'] = 'others'\n",
    "    print(f\"slice {slice['name']} is tagged as {slice['family']}⋇{slice['scope']}\",\n",
    "          f\"with {len(slice['person_ids'])} people\", end=\"\")\n",
    "    if verbose:\n",
    "          print(f\"\\n\\t => {list(zip(slice['families'], slice['scopes']))}\", end=\"\")\n",
    "    print()\n"
   ]
  },
  {
   "cell_type": "code",
   "execution_count": 32,
   "metadata": {},
   "outputs": [
    {
     "name": "stdout",
     "output_type": "stream",
     "text": [
      "we have a total of 76 relevant slices\n",
      "academia⋇diana -> 62 slices\n",
      "academia⋇fit -> 11 slices\n",
      "academia⋇others -> 0 slices\n",
      "industry⋇diana -> 0 slices\n",
      "industry⋇fit -> 3 slices\n",
      "industry⋇others -> 0 slices\n"
     ]
    }
   ],
   "source": [
    "print(f\"we have a total of {len(relevant_slices)} relevant slices\")\n",
    "    \n",
    "for family, scope in perspectives:\n",
    "    in_perspective = [slice for slice in relevant_slices if slice['family'] == family and slice['scope'] == scope]\n",
    "    print(f\"{family}⋇{scope} -> {len(in_perspective)} slices\")"
   ]
  },
  {
   "cell_type": "markdown",
   "metadata": {},
   "source": [
    "# fetching leases"
   ]
  },
  {
   "cell_type": "code",
   "execution_count": 33,
   "metadata": {},
   "outputs": [
    {
     "name": "stdout",
     "output_type": "stream",
     "text": [
      "there have been 561 reservations made during the period\n"
     ]
    }
   ],
   "source": [
    "# fetch leases for that period\n",
    "selected_leases = proxy.GetLeases(\n",
    "    auth,\n",
    "    {'>t_from' : ifrom, '<t_from' : iuntil}\n",
    ")\n",
    "\n",
    "# Sort then in ascending order\n",
    "selected_leases.sort(key=lambda lease: lease['t_from'])\n",
    "\n",
    "print(f\"there have been {len(selected_leases)} reservations made during the period\")"
   ]
  },
  {
   "cell_type": "markdown",
   "metadata": {},
   "source": [
    "### a glimpse"
   ]
  },
  {
   "cell_type": "code",
   "execution_count": 34,
   "metadata": {},
   "outputs": [],
   "source": [
    "def lease_line(lease):\n",
    "    return f\"{lease['name']:25s} {human_readable(lease['t_from'])} -> {human_readable(lease['t_until'])}\"\n",
    "\n",
    "def glimpse(leases, size=5):\n",
    "    for lease in leases[:size]:\n",
    "        print(lease_line(lease))\n",
    "    print(\"...\")\n",
    "    for lease in leases[-size:]:\n",
    "        print(lease_line(lease))"
   ]
  },
  {
   "cell_type": "code",
   "execution_count": 35,
   "metadata": {
    "cell_style": "center"
   },
   "outputs": [
    {
     "name": "stdout",
     "output_type": "stream",
     "text": [
      "inria_r2lab.nightly       2018-10-03T01:00:UTC -> 2018-10-03T02:00:UTC\n",
      "inria_cefore              2018-10-03T13:00:UTC -> 2018-10-03T14:00:UTC\n",
      "inria_cefore              2018-10-03T17:50:UTC -> 2018-10-03T18:30:UTC\n",
      "inria_cefore              2018-10-04T05:40:UTC -> 2018-10-04T06:30:UTC\n",
      "inria_cefore              2018-10-04T07:20:UTC -> 2018-10-04T07:30:UTC\n",
      "...\n",
      "inria_mosaic              2019-03-29T10:40:UTC -> 2019-03-29T11:10:UTC\n",
      "inria_mosaic              2019-03-29T17:40:UTC -> 2019-03-29T18:30:UTC\n",
      "inria_acqua               2019-03-29T23:40:UTC -> 2019-03-30T01:00:UTC\n",
      "inria_mosaic              2019-03-30T12:40:UTC -> 2019-03-30T14:30:UTC\n",
      "inria_ulyon1              2019-03-30T23:20:UTC -> 2019-03-31T01:10:UTC\n"
     ]
    }
   ],
   "source": [
    "glimpse(selected_leases)"
   ]
  },
  {
   "cell_type": "markdown",
   "metadata": {},
   "source": [
    "# usage ratio"
   ]
  },
  {
   "cell_type": "markdown",
   "metadata": {},
   "source": [
    "##### raw ratio *vs* opening hours\n",
    "\n",
    "The raw ratio is obtained by comparing the amount of time reserved with the total amount of time available.\n",
    "\n",
    "Assuming that opening hours would be mon-fri from 09:00 to 19:00"
   ]
  },
  {
   "cell_type": "code",
   "execution_count": 36,
   "metadata": {},
   "outputs": [
    {
     "name": "stdout",
     "output_type": "stream",
     "text": [
      "CONSTANT: opening hours are 29.76% of total hours\n"
     ]
    }
   ],
   "source": [
    "# this is a constant\n",
    "\n",
    "open_correction = (5 * 10) / (7 * 24)\n",
    "print(f\"CONSTANT: opening hours are {open_correction:.2%} of total hours\")"
   ]
  },
  {
   "cell_type": "markdown",
   "metadata": {},
   "source": [
    "##### user *vs* admin\n",
    "\n",
    "We try to classify the various slices in 2 families whether they are for management/operations purposes, or used for actual experimentation."
   ]
  },
  {
   "cell_type": "code",
   "execution_count": 37,
   "metadata": {},
   "outputs": [],
   "source": [
    "total_duration = iuntil - ifrom"
   ]
  },
  {
   "cell_type": "code",
   "execution_count": 38,
   "metadata": {},
   "outputs": [],
   "source": [
    "# again this is a helper function \n",
    "\n",
    "def show_usage_ratio(leases, total_duration, message):\n",
    "\n",
    "    def duration(lease):\n",
    "        return lease['t_until'] - lease['t_from']\n",
    "\n",
    "    reserved_duration = sum(duration(lease) for lease in leases)\n",
    "    print(f\"Total time reserved: {reserved_duration} / {total_duration:1.0f} s\")\n",
    "    print(f\"                i.e: {reserved_duration/3600:.2f} / {total_duration/3600:.2f}    hours\")\n",
    "    print(f\"                i.e: {reserved_duration/(24*3600):.2f} / {total_duration/(24*3600):.2f}       days\")\n",
    "    \n",
    "    raw_ratio = reserved_duration / total_duration\n",
    "    print(f\"{message}: raw_ratio is {raw_ratio:.2%}\")\n",
    "    \n",
    "    open_ratio = raw_ratio / open_correction\n",
    "    print(f\"{message}: open_ratio is {open_ratio:.2%}\")"
   ]
  },
  {
   "cell_type": "code",
   "execution_count": 39,
   "metadata": {
    "cell_style": "center"
   },
   "outputs": [
    {
     "name": "stdout",
     "output_type": "stream",
     "text": [
      "Total time reserved: 2800805 / 15724800 s\n",
      "                i.e: 778.00 / 4368.00    hours\n",
      "                i.e: 32.42 / 182.00       days\n",
      "ALL LEASES: raw_ratio is 17.81%\n",
      "ALL LEASES: open_ratio is 59.85%\n"
     ]
    }
   ],
   "source": [
    "show_usage_ratio(selected_leases, total_duration, \"ALL LEASES\")"
   ]
  },
  {
   "cell_type": "markdown",
   "metadata": {},
   "source": [
    "### usage ratio - filtered"
   ]
  },
  {
   "cell_type": "markdown",
   "metadata": {},
   "source": [
    "We discard slices that have been run for administrative / operational purposes"
   ]
  },
  {
   "cell_type": "code",
   "execution_count": 40,
   "metadata": {},
   "outputs": [],
   "source": [
    "filtered_leases = [lease for lease in selected_leases if relevant(lease)]"
   ]
  },
  {
   "cell_type": "code",
   "execution_count": 41,
   "metadata": {},
   "outputs": [
    {
     "name": "stdout",
     "output_type": "stream",
     "text": [
      "Total time reserved: 2571605 / 15724800 s\n",
      "                i.e: 714.33 / 4368.00    hours\n",
      "                i.e: 29.76 / 182.00       days\n",
      "USER LEASES: raw_ratio is 16.35%\n",
      "USER LEASES: open_ratio is 54.95%\n"
     ]
    }
   ],
   "source": [
    "show_usage_ratio(filtered_leases, total_duration, \"USER LEASES\")"
   ]
  },
  {
   "cell_type": "markdown",
   "metadata": {},
   "source": [
    "### classifying usage"
   ]
  },
  {
   "cell_type": "code",
   "execution_count": 42,
   "metadata": {},
   "outputs": [],
   "source": [
    "# index to quickly retrieve slices\n",
    "slice_index = {slice['slice_id']: slice for slice in all_slices}"
   ]
  },
  {
   "cell_type": "code",
   "execution_count": 43,
   "metadata": {},
   "outputs": [
    {
     "name": "stdout",
     "output_type": "stream",
     "text": [
      "******************** academia⋇diana ==> 0\n",
      "******************** academia⋇fit ==> 375\n",
      "Total time reserved: 1914603 / 15724800 s\n",
      "                i.e: 531.83 / 4368.00    hours\n",
      "                i.e: 22.16 / 182.00       days\n",
      "academia⋇fit: raw_ratio is 12.18%\n",
      "academia⋇fit: open_ratio is 40.91%\n",
      "******************** academia⋇others ==> 0\n",
      "******************** industry⋇diana ==> 0\n",
      "******************** industry⋇fit ==> 118\n",
      "Total time reserved: 657002 / 15724800 s\n",
      "                i.e: 182.50 / 4368.00    hours\n",
      "                i.e: 7.60 / 182.00       days\n",
      "industry⋇fit: raw_ratio is 4.18%\n",
      "industry⋇fit: open_ratio is 14.04%\n",
      "******************** industry⋇others ==> 0\n"
     ]
    }
   ],
   "source": [
    "for family, scope in perspectives:\n",
    "    perspective_leases = []\n",
    "    for lease in filtered_leases:\n",
    "        slice = slice_index[lease['slice_id']]\n",
    "        if slice['family'] != family or slice['scope'] != scope:\n",
    "            continue\n",
    "        perspective_leases.append(lease)\n",
    "    print(20*'*', f\"{family}⋇{scope} ==>\", len(perspective_leases))\n",
    "    if perspective_leases:\n",
    "        show_usage_ratio(perspective_leases, total_duration, f\"{family}⋇{scope}\")"
   ]
  },
  {
   "cell_type": "markdown",
   "metadata": {},
   "source": [
    "these numbers are too rough; there is a need for some human correction to expose more meaningful numbers"
   ]
  },
  {
   "cell_type": "markdown",
   "metadata": {},
   "source": [
    "### human estimation"
   ]
  },
  {
   "cell_type": "markdown",
   "metadata": {},
   "source": [
    "<div style=\"border: 3px dotted; text-align: center; background-color:red\"><b>IMPORTANT !!</b></div>\n",
    "\n"
   ]
  },
  {
   "cell_type": "markdown",
   "metadata": {},
   "source": [
    "This method does not allow to conclude; this is due to the accounts / slice data model that does not allow to capture a meaningful classification mechanism.\n",
    "\n",
    "So, based on these results, and on what we've seen about the usage of the platform, we have made a human estimation to classify relevant (i.e. non administrative) usage as being\n",
    "\n",
    "* **50%** diana\n",
    "* **25%** FIT\n",
    "* **25%** others/industrial\n"
   ]
  },
  {
   "cell_type": "markdown",
   "metadata": {},
   "source": [
    "# accounts"
   ]
  },
  {
   "cell_type": "markdown",
   "metadata": {},
   "source": [
    "### validated *vs* non-validated accounts\n",
    "\n",
    "Still on the selected period, show the ones that were enabled or not"
   ]
  },
  {
   "cell_type": "code",
   "execution_count": 44,
   "metadata": {},
   "outputs": [],
   "source": [
    "enabled_selected_accounts = [ account for account in selected_accounts if account['enabled']]\n",
    "disabled_selected_accounts = [ account for account in selected_accounts if not account['enabled']]"
   ]
  },
  {
   "cell_type": "code",
   "execution_count": 45,
   "metadata": {},
   "outputs": [
    {
     "name": "stdout",
     "output_type": "stream",
     "text": [
      "[01]  OK 2018-10-24T13:53:UTC inria                   industry  others    adnan.aijaz@toshiba-trel.com\n",
      "[02]  OK 2018-10-25T05:09:UTC inria                   industry  others    praveen_kalapatapu@infosys.com\n",
      "[03]  OK 2018-10-31T05:50:UTC inria                   academia  others    rathodvishal78@gmail.com\n",
      "[04]  OK 2018-10-31T10:51:UTC inria                   industry  others    jaya.thota@toshiba-trel.com\n",
      "[05]  OK 2018-10-31T11:15:UTC inria                   industry  others    prash.kemp@gmail.com\n",
      "[06]  OK 2018-11-12T11:23:UTC inria                   academia  others    pierre-louis.tharaux@inserm.fr\n",
      "[07]  OK 2019-01-02T12:40:UTC inria                   academia  others    tijana.devaja@uns.ac.rs\n",
      "[08]  OK 2019-02-11T17:47:UTC inria                   academia  others    vemundd@stud.ntnu.no\n",
      "[09]  OK 2019-02-12T14:32:UTC inria                   academia  others    a.k.bhattacharjee@student.tudelft.nl\n",
      "[10]  OK 2019-02-26T10:18:UTC inria                   academia  diana     giuseppe.di-lena@inria.fr\n",
      "[11]  OK 2019-02-28T17:03:UTC inria                   academia  fit       remy.grunblatt@inria.fr\n",
      "[12]  OK 2019-03-07T17:37:UTC inria                   academia  others    nothiern@gmail.com\n",
      "[13]  OK 2019-03-18T16:04:UTC inria                   academia  diana     anas.errahali@inria.fr\n"
     ]
    }
   ],
   "source": [
    "show_accounts(enabled_selected_accounts)"
   ]
  },
  {
   "cell_type": "code",
   "execution_count": 46,
   "metadata": {},
   "outputs": [
    {
     "name": "stdout",
     "output_type": "stream",
     "text": [
      "[01]  KO 2018-10-03T12:37:UTC inria                   --        --        dsvshx@qq.com\n",
      "[02]  KO 2018-10-15T11:34:UTC inria                   --        --        shanay.behrad@orange.com\n",
      "[03]  KO 2018-10-15T11:39:UTC inria                   --        --        shanaybehrad@gmail.com\n",
      "[04]  KO 2018-10-17T18:05:UTC inria                   --        --        hakimlatrache@yahoo.fr\n",
      "[05]  KO 2018-10-17T18:06:UTC inria                   --        --        hakim.latrache@ac-lille.fr\n",
      "[06]  KO 2018-10-20T19:11:UTC inria                   --        --        antoniocortescastillo@gmail.com\n",
      "[07]  KO 2018-10-20T19:19:UTC unicamp                 --        --        antonio.cortes@up.ac.pa\n",
      "[08]  KO 2018-11-11T20:50:UTC inria                   --        --        faisal.rafi.mca@gmail.com\n",
      "[09]  KO 2018-11-27T06:06:UTC inria                   --        --        rohit.tamhane@lnttechservices.com\n",
      "[10]  KO 2018-11-28T11:01:UTC inria                   --        --        abdenourbouras.23000@gmail.com\n",
      "[11]  KO 2018-12-10T17:14:UTC inria                   --        --        romain.pujol@insa-lyon.fr\n",
      "[12]  KO 2018-12-20T03:05:UTC inria                   --        --        ducanh@cpt.gov.vn\n",
      "[13]  KO 2018-12-20T03:09:UTC inria                   --        --        ducanhlyk6@gmail.com\n",
      "[14]  KO 2019-01-18T21:07:UTC eurecomple              --        --        lfarizav@unal.edu.co\n",
      "[15]  KO 2019-01-23T15:55:UTC eurecoms3               --        --        andrea.possemato@eurecom.fr\n",
      "[16]  KO 2019-02-04T12:04:UTC inria                   --        --        parth@sea-shore.tech\n",
      "[17]  KO 2019-02-05T20:43:UTC eurecomple              --        --        carlosbg1991@gmail.com\n",
      "[18]  KO 2019-02-05T22:35:UTC inria                   --        --        sara@cse.unl.edu\n",
      "[19]  KO 2019-02-14T14:56:UTC inria                   --        --        thierno-mamoudou.bah@etu.univ-lyon1.fr\n",
      "[20]  KO 2019-03-15T20:50:UTC eurecomple              --        --        dzen.fedor@gmail.com\n",
      "[21]  KO 2019-03-15T20:53:UTC eurecomple              --        --        dzen.fedor13@gmail.com\n"
     ]
    }
   ],
   "source": [
    "show_accounts(disabled_selected_accounts)"
   ]
  }
 ],
 "metadata": {
  "kernelspec": {
   "display_name": "Python 3",
   "language": "python",
   "name": "python3"
  },
  "language_info": {
   "codemirror_mode": {
    "name": "ipython",
    "version": 3
   },
   "file_extension": ".py",
   "mimetype": "text/x-python",
   "name": "python",
   "nbconvert_exporter": "python",
   "pygments_lexer": "ipython3",
   "version": "3.7.2"
  }
 },
 "nbformat": 4,
 "nbformat_minor": 2
}
